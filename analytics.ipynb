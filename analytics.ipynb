{
 "cells": [
  {
   "cell_type": "markdown",
   "id": "ff89505e",
   "metadata": {
    "heading_collapsed": true
   },
   "source": [
    "# 0.0. __INIT__"
   ]
  },
  {
   "cell_type": "markdown",
   "id": "2038277b",
   "metadata": {},
   "source": [
    "## 0.1. Imports"
   ]
  },
  {
<<<<<<< HEAD
   "cell_type": "code",
   "execution_count": 2,
   "id": "58519037",
   "metadata": {},
   "outputs": [],
   "source": [
    "import pandas as pd\n",
    "import plotly.express as px"
   ]
  },
  {
=======
>>>>>>> d18ed3c0eaba9690b3d9be853aafa7033945a076
   "cell_type": "markdown",
   "id": "184afa5d",
   "metadata": {
    "heading_collapsed": true,
    "hidden": true
   },
   "source": [
    "## 0.2. Helper Functions"
   ]
  },
  {
<<<<<<< HEAD
   "cell_type": "code",
   "execution_count": 3,
   "id": "c5bab7cd",
   "metadata": {},
   "outputs": [],
   "source": [
    "def numerical_description(numerical: pd.DataFrame) -> pd.DataFrame:\n",
    "    description = numerical.describe().T\n",
    "    description['range'] = description['max'] - description['min']\n",
    "    description['skew'] = numerical.skew()\n",
    "    description['kurtosis'] = numerical.kurtosis()\n",
    "\n",
    "    return description"
   ]
  },
  {
=======
>>>>>>> d18ed3c0eaba9690b3d9be853aafa7033945a076
   "cell_type": "markdown",
   "id": "0b39388f",
   "metadata": {
    "heading_collapsed": true,
    "hidden": true
   },
   "source": [
    "## 0.3. Loading data"
   ]
  },
  {
<<<<<<< HEAD
   "cell_type": "code",
   "execution_count": 10,
   "id": "9aa993e4",
   "metadata": {},
   "outputs": [],
   "source": [
    "data_metrics = pd.read_excel(\"data/Data_2021.xls\")\n",
    "data_historic = pd.read_excel(\"data/Historic_data.xls\")"
   ]
  },
  {
=======
>>>>>>> d18ed3c0eaba9690b3d9be853aafa7033945a076
   "cell_type": "markdown",
   "id": "5e999268",
   "metadata": {
    "heading_collapsed": true
   },
   "source": [
    "# 1.0. DATA DESCRIPTION"
   ]
  },
  {
<<<<<<< HEAD
   "cell_type": "code",
   "execution_count": 12,
   "id": "b42bdab6",
   "metadata": {},
   "outputs": [],
   "source": [
    "df1_metrics = data_metrics.copy()\n",
    "df1_historic = data_historic.copy()"
   ]
  },
  {
   "cell_type": "markdown",
   "id": "2acfc308",
   "metadata": {},
   "source": [
    "## 1.1. Metrics description"
   ]
  },
  {
   "cell_type": "code",
   "execution_count": 16,
   "id": "820788cd",
   "metadata": {},
   "outputs": [],
   "source": [
    "df1 = df1_metrics.copy()"
   ]
  },
  {
   "cell_type": "code",
   "execution_count": 17,
   "id": "91d233b4",
   "metadata": {},
   "outputs": [
    {
     "data": {
      "text/html": [
       "<div>\n",
       "<style scoped>\n",
       "    .dataframe tbody tr th:only-of-type {\n",
       "        vertical-align: middle;\n",
       "    }\n",
       "\n",
       "    .dataframe tbody tr th {\n",
       "        vertical-align: top;\n",
       "    }\n",
       "\n",
       "    .dataframe thead th {\n",
       "        text-align: right;\n",
       "    }\n",
       "</style>\n",
       "<table border=\"1\" class=\"dataframe\">\n",
       "  <thead>\n",
       "    <tr style=\"text-align: right;\">\n",
       "      <th></th>\n",
       "      <th>Country name</th>\n",
       "      <th>Regional indicator</th>\n",
       "      <th>Ladder score</th>\n",
       "      <th>Logged GDP per capita</th>\n",
       "      <th>Social support</th>\n",
       "      <th>Healthy life expectancy</th>\n",
       "      <th>Freedom to make life choices</th>\n",
       "      <th>Generosity</th>\n",
       "      <th>Perceptions of corruption</th>\n",
       "    </tr>\n",
       "  </thead>\n",
       "  <tbody>\n",
       "    <tr>\n",
       "      <th>0</th>\n",
       "      <td>Finland</td>\n",
       "      <td>Western Europe</td>\n",
       "      <td>7.8421</td>\n",
       "      <td>10.775202</td>\n",
       "      <td>0.953603</td>\n",
       "      <td>72.000000</td>\n",
       "      <td>0.949268</td>\n",
       "      <td>-0.097760</td>\n",
       "      <td>0.185846</td>\n",
       "    </tr>\n",
       "    <tr>\n",
       "      <th>1</th>\n",
       "      <td>Denmark</td>\n",
       "      <td>Western Europe</td>\n",
       "      <td>7.6195</td>\n",
       "      <td>10.933176</td>\n",
       "      <td>0.954410</td>\n",
       "      <td>72.699753</td>\n",
       "      <td>0.945639</td>\n",
       "      <td>0.030109</td>\n",
       "      <td>0.178838</td>\n",
       "    </tr>\n",
       "    <tr>\n",
       "      <th>2</th>\n",
       "      <td>Switzerland</td>\n",
       "      <td>Western Europe</td>\n",
       "      <td>7.5715</td>\n",
       "      <td>11.117368</td>\n",
       "      <td>0.941742</td>\n",
       "      <td>74.400101</td>\n",
       "      <td>0.918788</td>\n",
       "      <td>0.024629</td>\n",
       "      <td>0.291698</td>\n",
       "    </tr>\n",
       "    <tr>\n",
       "      <th>3</th>\n",
       "      <td>Iceland</td>\n",
       "      <td>Western Europe</td>\n",
       "      <td>7.5539</td>\n",
       "      <td>10.877768</td>\n",
       "      <td>0.982938</td>\n",
       "      <td>73.000000</td>\n",
       "      <td>0.955123</td>\n",
       "      <td>0.160274</td>\n",
       "      <td>0.672865</td>\n",
       "    </tr>\n",
       "    <tr>\n",
       "      <th>4</th>\n",
       "      <td>Netherlands</td>\n",
       "      <td>Western Europe</td>\n",
       "      <td>7.4640</td>\n",
       "      <td>10.931812</td>\n",
       "      <td>0.941601</td>\n",
       "      <td>72.400116</td>\n",
       "      <td>0.913116</td>\n",
       "      <td>0.175404</td>\n",
       "      <td>0.337938</td>\n",
       "    </tr>\n",
       "  </tbody>\n",
       "</table>\n",
       "</div>"
      ],
      "text/plain": [
       "  Country name Regional indicator  Ladder score  Logged GDP per capita  \\\n",
       "0      Finland     Western Europe        7.8421              10.775202   \n",
       "1      Denmark     Western Europe        7.6195              10.933176   \n",
       "2  Switzerland     Western Europe        7.5715              11.117368   \n",
       "3      Iceland     Western Europe        7.5539              10.877768   \n",
       "4  Netherlands     Western Europe        7.4640              10.931812   \n",
       "\n",
       "   Social support  Healthy life expectancy  Freedom to make life choices  \\\n",
       "0        0.953603                72.000000                      0.949268   \n",
       "1        0.954410                72.699753                      0.945639   \n",
       "2        0.941742                74.400101                      0.918788   \n",
       "3        0.982938                73.000000                      0.955123   \n",
       "4        0.941601                72.400116                      0.913116   \n",
       "\n",
       "   Generosity  Perceptions of corruption  \n",
       "0   -0.097760                   0.185846  \n",
       "1    0.030109                   0.178838  \n",
       "2    0.024629                   0.291698  \n",
       "3    0.160274                   0.672865  \n",
       "4    0.175404                   0.337938  "
      ]
     },
     "execution_count": 17,
     "metadata": {},
     "output_type": "execute_result"
    }
   ],
   "source": [
    "df1.head()"
   ]
  },
  {
   "cell_type": "markdown",
   "id": "dbf1c91f",
   "metadata": {},
   "source": [
    "### 1.1.1. Data Dimensions"
   ]
  },
  {
   "cell_type": "code",
   "execution_count": 18,
   "id": "a533d597",
   "metadata": {},
   "outputs": [
    {
     "name": "stdout",
     "output_type": "stream",
     "text": [
      "Number of rows: 149\n",
      "Number of columns: 9\n"
     ]
    }
   ],
   "source": [
    "print(f'Number of rows: {df1.shape[0]}')\n",
    "print(f'Number of columns: {df1.shape[1]}')"
   ]
  },
  {
   "cell_type": "markdown",
   "id": "1fd9c184",
   "metadata": {},
   "source": [
    "### 1.1.2. Data types"
   ]
  },
  {
   "cell_type": "code",
   "execution_count": 19,
   "id": "056039bb",
   "metadata": {},
   "outputs": [
    {
     "data": {
      "text/plain": [
       "Country name                     object\n",
       "Regional indicator               object\n",
       "Ladder score                    float64\n",
       "Logged GDP per capita           float64\n",
       "Social support                  float64\n",
       "Healthy life expectancy         float64\n",
       "Freedom to make life choices    float64\n",
       "Generosity                      float64\n",
       "Perceptions of corruption       float64\n",
       "dtype: object"
      ]
     },
     "execution_count": 19,
     "metadata": {},
     "output_type": "execute_result"
    }
   ],
   "source": [
    "df1.dtypes"
   ]
  },
  {
   "cell_type": "markdown",
   "id": "2f44515f",
   "metadata": {},
   "source": [
    "### 1.1.3. Check NA"
   ]
  },
  {
   "cell_type": "code",
   "execution_count": 20,
   "id": "d689f690",
   "metadata": {},
   "outputs": [
    {
     "data": {
      "text/plain": [
       "Country name                    0\n",
       "Regional indicator              0\n",
       "Ladder score                    0\n",
       "Logged GDP per capita           0\n",
       "Social support                  0\n",
       "Healthy life expectancy         0\n",
       "Freedom to make life choices    0\n",
       "Generosity                      0\n",
       "Perceptions of corruption       0\n",
       "dtype: int64"
      ]
     },
     "execution_count": 20,
     "metadata": {},
     "output_type": "execute_result"
    }
   ],
   "source": [
    "df1.isna().sum()"
   ]
  },
  {
   "cell_type": "markdown",
   "id": "2a07202c",
   "metadata": {},
   "source": [
    "### 1.1.4. Data Descriptive"
   ]
  },
  {
   "cell_type": "code",
   "execution_count": 21,
   "id": "31cbcb43",
   "metadata": {},
   "outputs": [],
   "source": [
    "numerical = df1.select_dtypes(include=['int64', 'float64'])\n",
    "categorical = df1.select_dtypes(exclude=['int64', 'float64', 'datetime64[ns]'])"
   ]
  },
  {
   "cell_type": "code",
   "execution_count": 22,
   "id": "9c871306",
   "metadata": {},
   "outputs": [
    {
     "data": {
      "text/html": [
       "<div>\n",
       "<style scoped>\n",
       "    .dataframe tbody tr th:only-of-type {\n",
       "        vertical-align: middle;\n",
       "    }\n",
       "\n",
       "    .dataframe tbody tr th {\n",
       "        vertical-align: top;\n",
       "    }\n",
       "\n",
       "    .dataframe thead th {\n",
       "        text-align: right;\n",
       "    }\n",
       "</style>\n",
       "<table border=\"1\" class=\"dataframe\">\n",
       "  <thead>\n",
       "    <tr style=\"text-align: right;\">\n",
       "      <th></th>\n",
       "      <th>count</th>\n",
       "      <th>mean</th>\n",
       "      <th>std</th>\n",
       "      <th>min</th>\n",
       "      <th>25%</th>\n",
       "      <th>50%</th>\n",
       "      <th>75%</th>\n",
       "      <th>max</th>\n",
       "      <th>range</th>\n",
       "      <th>skew</th>\n",
       "      <th>kurtosis</th>\n",
       "    </tr>\n",
       "  </thead>\n",
       "  <tbody>\n",
       "    <tr>\n",
       "      <th>Ladder score</th>\n",
       "      <td>149.0</td>\n",
       "      <td>5.532832</td>\n",
       "      <td>1.073923</td>\n",
       "      <td>2.522900</td>\n",
       "      <td>4.851800</td>\n",
       "      <td>5.533500</td>\n",
       "      <td>6.255400</td>\n",
       "      <td>7.842100</td>\n",
       "      <td>5.319200</td>\n",
       "      <td>-0.104272</td>\n",
       "      <td>-0.368236</td>\n",
       "    </tr>\n",
       "    <tr>\n",
       "      <th>Logged GDP per capita</th>\n",
       "      <td>149.0</td>\n",
       "      <td>9.432209</td>\n",
       "      <td>1.158585</td>\n",
       "      <td>6.635322</td>\n",
       "      <td>8.540956</td>\n",
       "      <td>9.568728</td>\n",
       "      <td>10.421198</td>\n",
       "      <td>11.646564</td>\n",
       "      <td>5.011242</td>\n",
       "      <td>-0.352070</td>\n",
       "      <td>-0.815365</td>\n",
       "    </tr>\n",
       "    <tr>\n",
       "      <th>Social support</th>\n",
       "      <td>149.0</td>\n",
       "      <td>0.814726</td>\n",
       "      <td>0.114892</td>\n",
       "      <td>0.462596</td>\n",
       "      <td>0.749777</td>\n",
       "      <td>0.831914</td>\n",
       "      <td>0.904702</td>\n",
       "      <td>0.982938</td>\n",
       "      <td>0.520342</td>\n",
       "      <td>-0.937962</td>\n",
       "      <td>0.398104</td>\n",
       "    </tr>\n",
       "    <tr>\n",
       "      <th>Healthy life expectancy</th>\n",
       "      <td>149.0</td>\n",
       "      <td>64.992784</td>\n",
       "      <td>6.762071</td>\n",
       "      <td>48.478001</td>\n",
       "      <td>59.801552</td>\n",
       "      <td>66.603096</td>\n",
       "      <td>69.599998</td>\n",
       "      <td>76.952858</td>\n",
       "      <td>28.474857</td>\n",
       "      <td>-0.522006</td>\n",
       "      <td>-0.564196</td>\n",
       "    </tr>\n",
       "    <tr>\n",
       "      <th>Freedom to make life choices</th>\n",
       "      <td>149.0</td>\n",
       "      <td>0.791572</td>\n",
       "      <td>0.113315</td>\n",
       "      <td>0.381749</td>\n",
       "      <td>0.718051</td>\n",
       "      <td>0.804414</td>\n",
       "      <td>0.877263</td>\n",
       "      <td>0.970131</td>\n",
       "      <td>0.588382</td>\n",
       "      <td>-0.756627</td>\n",
       "      <td>0.412602</td>\n",
       "    </tr>\n",
       "    <tr>\n",
       "      <th>Generosity</th>\n",
       "      <td>149.0</td>\n",
       "      <td>-0.015149</td>\n",
       "      <td>0.150653</td>\n",
       "      <td>-0.288153</td>\n",
       "      <td>-0.126469</td>\n",
       "      <td>-0.036025</td>\n",
       "      <td>0.078830</td>\n",
       "      <td>0.541553</td>\n",
       "      <td>0.829706</td>\n",
       "      <td>1.009203</td>\n",
       "      <td>1.631913</td>\n",
       "    </tr>\n",
       "    <tr>\n",
       "      <th>Perceptions of corruption</th>\n",
       "      <td>149.0</td>\n",
       "      <td>0.727477</td>\n",
       "      <td>0.179266</td>\n",
       "      <td>0.081959</td>\n",
       "      <td>0.666607</td>\n",
       "      <td>0.780623</td>\n",
       "      <td>0.844619</td>\n",
       "      <td>0.939343</td>\n",
       "      <td>0.857385</td>\n",
       "      <td>-1.576883</td>\n",
       "      <td>2.248839</td>\n",
       "    </tr>\n",
       "  </tbody>\n",
       "</table>\n",
       "</div>"
      ],
      "text/plain": [
       "                              count       mean       std        min  \\\n",
       "Ladder score                  149.0   5.532832  1.073923   2.522900   \n",
       "Logged GDP per capita         149.0   9.432209  1.158585   6.635322   \n",
       "Social support                149.0   0.814726  0.114892   0.462596   \n",
       "Healthy life expectancy       149.0  64.992784  6.762071  48.478001   \n",
       "Freedom to make life choices  149.0   0.791572  0.113315   0.381749   \n",
       "Generosity                    149.0  -0.015149  0.150653  -0.288153   \n",
       "Perceptions of corruption     149.0   0.727477  0.179266   0.081959   \n",
       "\n",
       "                                    25%        50%        75%        max  \\\n",
       "Ladder score                   4.851800   5.533500   6.255400   7.842100   \n",
       "Logged GDP per capita          8.540956   9.568728  10.421198  11.646564   \n",
       "Social support                 0.749777   0.831914   0.904702   0.982938   \n",
       "Healthy life expectancy       59.801552  66.603096  69.599998  76.952858   \n",
       "Freedom to make life choices   0.718051   0.804414   0.877263   0.970131   \n",
       "Generosity                    -0.126469  -0.036025   0.078830   0.541553   \n",
       "Perceptions of corruption      0.666607   0.780623   0.844619   0.939343   \n",
       "\n",
       "                                  range      skew  kurtosis  \n",
       "Ladder score                   5.319200 -0.104272 -0.368236  \n",
       "Logged GDP per capita          5.011242 -0.352070 -0.815365  \n",
       "Social support                 0.520342 -0.937962  0.398104  \n",
       "Healthy life expectancy       28.474857 -0.522006 -0.564196  \n",
       "Freedom to make life choices   0.588382 -0.756627  0.412602  \n",
       "Generosity                     0.829706  1.009203  1.631913  \n",
       "Perceptions of corruption      0.857385 -1.576883  2.248839  "
      ]
     },
     "execution_count": 22,
     "metadata": {},
     "output_type": "execute_result"
    }
   ],
   "source": [
    "numerical_description(numerical)"
   ]
  },
  {
   "cell_type": "markdown",
   "id": "3b0ff54a",
   "metadata": {},
   "source": [
    "## 1.2. Historic description"
   ]
  },
  {
   "cell_type": "code",
   "execution_count": 15,
   "id": "ababc44d",
   "metadata": {},
   "outputs": [
    {
     "data": {
      "text/html": [
       "<div>\n",
       "<style scoped>\n",
       "    .dataframe tbody tr th:only-of-type {\n",
       "        vertical-align: middle;\n",
       "    }\n",
       "\n",
       "    .dataframe tbody tr th {\n",
       "        vertical-align: top;\n",
       "    }\n",
       "\n",
       "    .dataframe thead th {\n",
       "        text-align: right;\n",
       "    }\n",
       "</style>\n",
       "<table border=\"1\" class=\"dataframe\">\n",
       "  <thead>\n",
       "    <tr style=\"text-align: right;\">\n",
       "      <th></th>\n",
       "      <th>Country name</th>\n",
       "      <th>year</th>\n",
       "      <th>Life Ladder</th>\n",
       "      <th>Log GDP per capita</th>\n",
       "      <th>Social support</th>\n",
       "      <th>Healthy life expectancy at birth</th>\n",
       "      <th>Freedom to make life choices</th>\n",
       "      <th>Generosity</th>\n",
       "      <th>Perceptions of corruption</th>\n",
       "      <th>Positive affect</th>\n",
       "      <th>Negative affect</th>\n",
       "    </tr>\n",
       "  </thead>\n",
       "  <tbody>\n",
       "    <tr>\n",
       "      <th>0</th>\n",
       "      <td>Afghanistan</td>\n",
       "      <td>2008</td>\n",
       "      <td>3.723590</td>\n",
       "      <td>7.370100</td>\n",
       "      <td>0.450662</td>\n",
       "      <td>50.799999</td>\n",
       "      <td>0.718114</td>\n",
       "      <td>0.167640</td>\n",
       "      <td>0.881686</td>\n",
       "      <td>0.517637</td>\n",
       "      <td>0.258195</td>\n",
       "    </tr>\n",
       "    <tr>\n",
       "      <th>1</th>\n",
       "      <td>Afghanistan</td>\n",
       "      <td>2009</td>\n",
       "      <td>4.401778</td>\n",
       "      <td>7.539972</td>\n",
       "      <td>0.552308</td>\n",
       "      <td>51.200001</td>\n",
       "      <td>0.678896</td>\n",
       "      <td>0.190099</td>\n",
       "      <td>0.850035</td>\n",
       "      <td>0.583926</td>\n",
       "      <td>0.237092</td>\n",
       "    </tr>\n",
       "    <tr>\n",
       "      <th>2</th>\n",
       "      <td>Afghanistan</td>\n",
       "      <td>2010</td>\n",
       "      <td>4.758381</td>\n",
       "      <td>7.646709</td>\n",
       "      <td>0.539075</td>\n",
       "      <td>51.599998</td>\n",
       "      <td>0.600127</td>\n",
       "      <td>0.120590</td>\n",
       "      <td>0.706766</td>\n",
       "      <td>0.618265</td>\n",
       "      <td>0.275324</td>\n",
       "    </tr>\n",
       "    <tr>\n",
       "      <th>3</th>\n",
       "      <td>Afghanistan</td>\n",
       "      <td>2011</td>\n",
       "      <td>3.831719</td>\n",
       "      <td>7.619532</td>\n",
       "      <td>0.521104</td>\n",
       "      <td>51.919998</td>\n",
       "      <td>0.495901</td>\n",
       "      <td>0.162427</td>\n",
       "      <td>0.731109</td>\n",
       "      <td>0.611387</td>\n",
       "      <td>0.267175</td>\n",
       "    </tr>\n",
       "    <tr>\n",
       "      <th>4</th>\n",
       "      <td>Afghanistan</td>\n",
       "      <td>2012</td>\n",
       "      <td>3.782938</td>\n",
       "      <td>7.705479</td>\n",
       "      <td>0.520637</td>\n",
       "      <td>52.240002</td>\n",
       "      <td>0.530935</td>\n",
       "      <td>0.236032</td>\n",
       "      <td>0.775620</td>\n",
       "      <td>0.710385</td>\n",
       "      <td>0.267919</td>\n",
       "    </tr>\n",
       "  </tbody>\n",
       "</table>\n",
       "</div>"
      ],
      "text/plain": [
       "  Country name  year  Life Ladder  Log GDP per capita  Social support  \\\n",
       "0  Afghanistan  2008     3.723590            7.370100        0.450662   \n",
       "1  Afghanistan  2009     4.401778            7.539972        0.552308   \n",
       "2  Afghanistan  2010     4.758381            7.646709        0.539075   \n",
       "3  Afghanistan  2011     3.831719            7.619532        0.521104   \n",
       "4  Afghanistan  2012     3.782938            7.705479        0.520637   \n",
       "\n",
       "   Healthy life expectancy at birth  Freedom to make life choices  Generosity  \\\n",
       "0                         50.799999                      0.718114    0.167640   \n",
       "1                         51.200001                      0.678896    0.190099   \n",
       "2                         51.599998                      0.600127    0.120590   \n",
       "3                         51.919998                      0.495901    0.162427   \n",
       "4                         52.240002                      0.530935    0.236032   \n",
       "\n",
       "   Perceptions of corruption  Positive affect  Negative affect  \n",
       "0                   0.881686         0.517637         0.258195  \n",
       "1                   0.850035         0.583926         0.237092  \n",
       "2                   0.706766         0.618265         0.275324  \n",
       "3                   0.731109         0.611387         0.267175  \n",
       "4                   0.775620         0.710385         0.267919  "
      ]
     },
     "execution_count": 15,
     "metadata": {},
     "output_type": "execute_result"
    }
   ],
   "source": [
    "df1_historic.head()"
   ]
  },
  {
=======
>>>>>>> d18ed3c0eaba9690b3d9be853aafa7033945a076
   "cell_type": "markdown",
   "id": "49bf3ce1",
   "metadata": {
    "heading_collapsed": true,
    "hidden": true
   },
   "source": [
    "## 1.1. Rename Columns"
   ]
  },
  {
   "cell_type": "markdown",
   "id": "50c12c7d",
   "metadata": {
    "heading_collapsed": true,
    "hidden": true
   },
   "source": [
    "## 1.2. Data Dimensions"
   ]
  },
  {
   "cell_type": "markdown",
   "id": "302f8449",
   "metadata": {
    "heading_collapsed": true,
    "hidden": true
   },
   "source": [
    "## 1.3. Data Types"
   ]
  },
  {
   "cell_type": "markdown",
   "id": "016650ad",
   "metadata": {
    "heading_collapsed": true,
    "hidden": true
   },
   "source": [
    "## 1.4. Check NA"
   ]
  },
  {
   "cell_type": "markdown",
   "id": "20084437",
   "metadata": {
    "heading_collapsed": true,
    "hidden": true
   },
   "source": [
    "## 1.5. Fillout NA"
   ]
  },
  {
   "cell_type": "markdown",
   "id": "cc8070d9",
   "metadata": {
    "heading_collapsed": true,
    "hidden": true
   },
   "source": [
    "## 1.6. Change Types"
   ]
  },
  {
   "cell_type": "markdown",
   "id": "638c566d",
   "metadata": {
    "heading_collapsed": true,
    "hidden": true
   },
   "source": [
    "## 1.7. Descriptive Statistical"
   ]
  },
  {
   "cell_type": "markdown",
   "id": "d3c77fcf",
   "metadata": {
    "hidden": true
   },
   "source": [
    "### 1.7.1. Numerical Attributes"
   ]
  },
  {
   "cell_type": "markdown",
   "id": "1d39bfad",
   "metadata": {
    "hidden": true
   },
   "source": [
    "### 1.7.2. Categorical Attrributes"
   ]
  },
  {
   "cell_type": "markdown",
   "id": "a31cd48a",
   "metadata": {
    "heading_collapsed": true
   },
   "source": [
    "# 2.0. FEATURE ENGENEERING"
   ]
  },
  {
   "cell_type": "markdown",
   "id": "e67c4489",
   "metadata": {
    "heading_collapsed": true,
    "hidden": true
   },
   "source": [
    "## 2.1. Hypothesis creation"
   ]
  },
  {
   "cell_type": "markdown",
   "id": "f05a7e65",
   "metadata": {
    "heading_collapsed": true,
    "hidden": true
   },
   "source": [
    "### 2.1.1. Store Hypothesis"
   ]
  },
  {
   "cell_type": "markdown",
   "id": "fccc91d3",
   "metadata": {
    "heading_collapsed": true,
    "hidden": true
   },
   "source": [
    "## 2.3. Featuring engineering"
   ]
  },
  {
   "cell_type": "markdown",
   "id": "fbf7ffb8",
   "metadata": {
    "ExecuteTime": {
     "end_time": "2021-08-11T23:48:34.806130Z",
     "start_time": "2021-08-11T23:48:34.803513Z"
    },
    "heading_collapsed": true
   },
   "source": [
    "# 3.0. DATA FILTERING"
   ]
  },
  {
   "cell_type": "markdown",
   "id": "7756c012",
   "metadata": {
    "heading_collapsed": true,
    "hidden": true
   },
   "source": [
    "## 3.1. Lines filtering"
   ]
  },
  {
   "cell_type": "markdown",
   "id": "90d8302c",
   "metadata": {
    "heading_collapsed": true,
    "hidden": true
   },
   "source": [
    "## 3.2. Columns filtering"
   ]
  },
  {
   "cell_type": "markdown",
   "id": "2e16963e",
   "metadata": {
    "ExecuteTime": {
     "end_time": "2021-08-11T23:48:34.806130Z",
     "start_time": "2021-08-11T23:48:34.803513Z"
    },
    "heading_collapsed": true
   },
   "source": [
    "# 4.0. EXPLORATORY DATA ANALISYS (EDA)"
   ]
  },
  {
   "cell_type": "markdown",
   "id": "90d85954",
   "metadata": {
    "heading_collapsed": true,
    "hidden": true
   },
   "source": [
    "## 4.1. Univariate Analysis"
   ]
  },
  {
   "cell_type": "markdown",
   "id": "346bc81c",
   "metadata": {
    "heading_collapsed": true,
    "hidden": true
   },
   "source": [
    "### 4.1.1. Response Variable"
   ]
  },
  {
   "cell_type": "markdown",
   "id": "2b40fab8",
   "metadata": {
    "heading_collapsed": true,
    "hidden": true
   },
   "source": [
    "### 4.1.2. Numerical Variables"
   ]
  },
  {
   "cell_type": "markdown",
   "id": "749bd96c",
   "metadata": {
    "heading_collapsed": true,
    "hidden": true
   },
   "source": [
    "### 4.1.3. Categorical Variables"
   ]
  },
  {
   "cell_type": "markdown",
   "id": "fac80fb7",
   "metadata": {
    "heading_collapsed": true,
    "hidden": true,
    "hide_input": true
   },
   "source": [
    "## 4.2. Bivariate Analysis"
   ]
  },
  {
   "cell_type": "markdown",
   "id": "5c577cb1",
   "metadata": {
    "heading_collapsed": true,
    "hidden": true,
    "hide_input": true
   },
   "source": [
    "### **H1.** Lojas com maior sortimento deveriam vender mais.\n",
    "**FALSA** Lojas com MAIOR SORTIMENTO vendem MENOS"
   ]
  },
  {
   "cell_type": "markdown",
   "id": "ae5b0f66",
   "metadata": {
    "heading_collapsed": true,
    "hidden": true
   },
   "source": [
    "### **H2.** Lojas com competidores mais perto deveriam vender mais.\n",
    "**VERDADEIRA**"
   ]
  },
  {
   "cell_type": "markdown",
   "id": "0da4fa3c",
   "metadata": {
    "heading_collapsed": true,
    "hidden": true,
    "hide_input": false
   },
   "source": [
    "### **H3.** Lojas com competidores há mais tempo deveriam vender mais.\n",
    "**FALSA** Lojas com competidores há MAIS TEMPO vendem MENOS"
   ]
  },
  {
   "cell_type": "markdown",
   "id": "882a1114",
   "metadata": {
    "heading_collapsed": true,
    "hidden": true
   },
   "source": [
    "### **H4.** Lojas com promoções ativas por mais tempo deveriam vender mais.\n",
    "**FALSA** Lojas com promoções ativas por MAIS TEMPO vendem MENOS depois de um certo período de tempo"
   ]
  },
  {
   "cell_type": "markdown",
   "id": "92780112",
   "metadata": {
    "heading_collapsed": true,
    "hidden": true
   },
   "source": [
    "### 4.2.1. Hypothesis summary"
   ]
  },
  {
   "cell_type": "markdown",
   "id": "d2cd18c2",
   "metadata": {
    "heading_collapsed": true,
    "hidden": true
   },
   "source": [
    "## 4.3. Multivariate Analysis"
   ]
  },
  {
   "cell_type": "markdown",
   "id": "f450890f",
   "metadata": {
    "heading_collapsed": true,
    "hidden": true
   },
   "source": [
    "### 4.3.1 Numerical Attributes"
   ]
  },
  {
   "cell_type": "markdown",
   "id": "b91e36a9",
   "metadata": {
    "heading_collapsed": true,
    "hidden": true
   },
   "source": [
    "### 4.3.2 Categorical Attributes"
   ]
  },
  {
   "cell_type": "markdown",
   "id": "8a28c8d3",
   "metadata": {
    "heading_collapsed": true
   },
   "source": [
    "# 5.0. DATA PREPARATION"
   ]
  },
  {
   "cell_type": "markdown",
   "id": "412b236b",
   "metadata": {
    "heading_collapsed": true,
    "hidden": true
   },
   "source": [
    "## 5.1. Normalization\n",
    "Because it was not possible to identify any normal distribution in section 4.1.2., there will be no data normalization."
   ]
  },
  {
   "cell_type": "markdown",
   "id": "31d0591e",
   "metadata": {
    "heading_collapsed": true,
    "hidden": true
   },
   "source": [
    "## 5.2. Rescaling"
   ]
  },
  {
   "cell_type": "markdown",
   "id": "e110e6d1",
   "metadata": {
    "heading_collapsed": true,
    "hidden": true
   },
   "source": [
    "## 5.3. Transformation"
   ]
  },
  {
   "cell_type": "markdown",
   "id": "3a67a7b9",
   "metadata": {
    "heading_collapsed": true,
    "hidden": true
   },
   "source": [
    "### 5.3.1. Encoding"
   ]
  },
  {
   "cell_type": "markdown",
   "id": "924ce5be",
   "metadata": {
    "heading_collapsed": true,
    "hidden": true
   },
   "source": [
    "### 5.3.2. Response variable transformation"
   ]
  },
  {
   "cell_type": "markdown",
   "id": "2d9f641a",
   "metadata": {
    "heading_collapsed": true,
    "hidden": true
   },
   "source": [
    "### 5.3.3. Nature transformation"
   ]
  },
  {
   "cell_type": "markdown",
   "id": "623aa292",
   "metadata": {
    "heading_collapsed": true
   },
   "source": [
    "# 6.0. FEATURE SELECTION"
   ]
  },
  {
   "cell_type": "markdown",
   "id": "35017117",
   "metadata": {
    "heading_collapsed": true,
    "hidden": true
   },
   "source": [
    "## 6.1. Split dataframe into training and test datasets"
   ]
  },
  {
   "cell_type": "markdown",
   "id": "713e8832",
   "metadata": {
    "heading_collapsed": true,
    "hidden": true
   },
   "source": [
    "## 6.2. Feature Selector"
   ]
  },
  {
   "cell_type": "markdown",
   "id": "57e76864",
   "metadata": {
    "heading_collapsed": true,
    "hidden": true
   },
   "source": [
    "### 6.2.1. Best Features"
   ]
  },
  {
   "cell_type": "markdown",
   "id": "178e1a2d",
   "metadata": {
    "heading_collapsed": true,
    "hidden": true
   },
   "source": [
    "## 6.3. Feature Selection"
   ]
  },
  {
   "cell_type": "markdown",
   "id": "2ae77a29",
   "metadata": {
    "heading_collapsed": true
   },
   "source": [
    "# 7.0. MACHINE LEARNING MODELLING"
   ]
  },
  {
   "cell_type": "markdown",
   "id": "1147c078",
   "metadata": {
    "heading_collapsed": true,
    "hidden": true
   },
   "source": [
    "## 7.1. Baseline Model"
   ]
  },
  {
   "cell_type": "markdown",
   "id": "5abf4963",
   "metadata": {
    "heading_collapsed": true,
    "hidden": true
   },
   "source": [
    "## 7.2. Linear Regression Model"
   ]
  },
  {
   "cell_type": "markdown",
   "id": "3aaccbcb",
   "metadata": {
    "hidden": true
   },
   "source": [
    "### 7.2.1. Linear Regression Model - Cross Validation"
   ]
  },
  {
   "cell_type": "markdown",
   "id": "0ef0e391",
   "metadata": {
    "heading_collapsed": true,
    "hidden": true
   },
   "source": [
    "## 7.3. Linear Regression Regularized Model - Lasso"
   ]
  },
  {
   "cell_type": "markdown",
   "id": "54b132b9",
   "metadata": {
    "hidden": true
   },
   "source": [
    "### 7.3.1. Linear Regression Regularized Model - Cross Validation"
   ]
  },
  {
   "cell_type": "markdown",
   "id": "e58e44bb",
   "metadata": {
    "heading_collapsed": true,
    "hidden": true
   },
   "source": [
    "## 7.4. Random Forest Regressor"
   ]
  },
  {
   "cell_type": "markdown",
   "id": "07727e9d",
   "metadata": {
    "hidden": true
   },
   "source": [
    "### 7.4.1. Random Forest Regressor - Cross Validation"
   ]
  },
  {
   "cell_type": "markdown",
   "id": "099944b2",
   "metadata": {
    "heading_collapsed": true,
    "hidden": true
   },
   "source": [
    "## 7.5. XGBoost Regressor"
   ]
  },
  {
   "cell_type": "markdown",
   "id": "33f0ec47",
   "metadata": {
    "hidden": true
   },
   "source": [
    "### 7.5.1. XGBoost Regressor - Cross Validation"
   ]
  },
  {
   "cell_type": "markdown",
   "id": "b63831f6",
   "metadata": {
    "heading_collapsed": true,
    "hidden": true
   },
   "source": [
    "## 7.6. Model comparison"
   ]
  },
  {
   "cell_type": "markdown",
   "id": "b60aca16",
   "metadata": {
    "heading_collapsed": true,
    "hidden": true
   },
   "source": [
    "### 7.6.1. Single Performance"
   ]
  },
  {
   "cell_type": "markdown",
   "id": "750918ec",
   "metadata": {
    "heading_collapsed": true,
    "hidden": true
   },
   "source": [
    "### 7.6.2. Real Performance - Cross Validation"
   ]
  },
  {
   "cell_type": "markdown",
   "id": "87555e7e",
   "metadata": {
    "heading_collapsed": true
   },
   "source": [
    "# 8.0. HYPERPARAMETER FINE TUNING\n"
   ]
  },
  {
   "cell_type": "markdown",
   "id": "e52972e9",
   "metadata": {
    "heading_collapsed": true,
    "hidden": true
   },
   "source": [
    "## 8.1. Random Search"
   ]
  },
  {
   "cell_type": "markdown",
   "id": "2d14a291",
   "metadata": {
    "heading_collapsed": true,
    "hidden": true
   },
   "source": [
    "## 8.2. Final Model"
   ]
  },
  {
   "cell_type": "markdown",
   "id": "9609d6f4",
   "metadata": {
    "heading_collapsed": true
   },
   "source": [
    "# 9.0. ERROR TRANSLATION AND INTERPRETATION\n"
   ]
  },
  {
   "cell_type": "markdown",
   "id": "11141bb4",
   "metadata": {
    "heading_collapsed": true,
    "hidden": true
   },
   "source": [
    "## 9.1. Business Performance"
   ]
  },
  {
   "cell_type": "markdown",
   "id": "aec97af3",
   "metadata": {
    "heading_collapsed": true,
    "hidden": true
   },
   "source": [
    "## 9.2. Total Performance"
   ]
  },
  {
   "cell_type": "markdown",
   "id": "66a53bab",
   "metadata": {
    "heading_collapsed": true,
    "hidden": true
   },
   "source": [
    "## 9.3. Machine Learning Performance"
   ]
  },
  {
   "cell_type": "markdown",
   "id": "1252fdc5",
   "metadata": {
    "heading_collapsed": true
   },
   "source": [
    "# 10.0. DEPLOY MODEL TO PRODUCTION\n"
   ]
  },
  {
   "cell_type": "markdown",
   "id": "fafd06a2",
   "metadata": {
    "heading_collapsed": true,
    "hidden": true
   },
   "source": [
    "## 10.1. Rossmann Class"
   ]
  },
  {
   "cell_type": "markdown",
   "id": "8d15a5ba",
   "metadata": {
    "heading_collapsed": true,
    "hidden": true
   },
   "source": [
    "## 10.2. API Handler"
   ]
  },
  {
   "cell_type": "markdown",
   "id": "498acc30",
   "metadata": {
    "heading_collapsed": true,
    "hidden": true
   },
   "source": [
    "## 10.3. API Tester"
   ]
  },
  {
   "cell_type": "code",
   "execution_count": null,
   "id": "023bb802",
   "metadata": {
    "hidden": true
   },
   "outputs": [],
   "source": []
  }
 ],
 "metadata": {
<<<<<<< HEAD
  "interpreter": {
   "hash": "f68534ced9acf1d52de536687490b971f1896eeb85705b1104159c765bed72b8"
  },
=======
>>>>>>> d18ed3c0eaba9690b3d9be853aafa7033945a076
  "kernelspec": {
   "display_name": "Python 3 (ipykernel)",
   "language": "python",
   "name": "python3"
  },
  "language_info": {
   "codemirror_mode": {
    "name": "ipython",
    "version": 3
   },
   "file_extension": ".py",
   "mimetype": "text/x-python",
   "name": "python",
   "nbconvert_exporter": "python",
   "pygments_lexer": "ipython3",
<<<<<<< HEAD
   "version": "3.8.8"
=======
   "version": "3.8.0"
>>>>>>> d18ed3c0eaba9690b3d9be853aafa7033945a076
  }
 },
 "nbformat": 4,
 "nbformat_minor": 5
}
